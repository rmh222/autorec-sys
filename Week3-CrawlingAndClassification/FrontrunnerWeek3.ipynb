{
 "cells": [
  {
   "cell_type": "code",
   "execution_count": 1,
   "metadata": {},
   "outputs": [
    {
     "name": "stdout",
     "output_type": "stream",
     "text": [
      "Requirement already satisfied: beautifulsoup4 in c:\\users\\doctorwho\\anaconda3\\lib\\site-packages (4.9.3)\n",
      "Requirement already satisfied: requests in c:\\users\\doctorwho\\anaconda3\\lib\\site-packages (2.24.0)\n",
      "Requirement already satisfied: soupsieve>1.2; python_version >= \"3.0\" in c:\\users\\doctorwho\\anaconda3\\lib\\site-packages (from beautifulsoup4) (2.0.1)\n",
      "Requirement already satisfied: certifi>=2017.4.17 in c:\\users\\doctorwho\\anaconda3\\lib\\site-packages (from requests) (2020.6.20)\n",
      "Requirement already satisfied: urllib3!=1.25.0,!=1.25.1,<1.26,>=1.21.1 in c:\\users\\doctorwho\\anaconda3\\lib\\site-packages (from requests) (1.25.11)\n",
      "Requirement already satisfied: idna<3,>=2.5 in c:\\users\\doctorwho\\anaconda3\\lib\\site-packages (from requests) (2.10)\n",
      "Requirement already satisfied: chardet<4,>=3.0.2 in c:\\users\\doctorwho\\anaconda3\\lib\\site-packages (from requests) (3.0.4)\n"
     ]
    }
   ],
   "source": [
    "!pip install beautifulsoup4 requests"
   ]
  },
  {
   "cell_type": "code",
   "execution_count": 1,
   "metadata": {},
   "outputs": [
    {
     "name": "stderr",
     "output_type": "stream",
     "text": [
      "[nltk_data] Downloading package wordnet to\n",
      "[nltk_data]     C:\\Users\\DoctorWho\\AppData\\Roaming\\nltk_data...\n",
      "[nltk_data]   Package wordnet is already up-to-date!\n",
      "[nltk_data] Downloading package stopwords to\n",
      "[nltk_data]     C:\\Users\\DoctorWho\\AppData\\Roaming\\nltk_data...\n",
      "[nltk_data]   Package stopwords is already up-to-date!\n",
      "[nltk_data] Downloading package punkt to\n",
      "[nltk_data]     C:\\Users\\DoctorWho\\AppData\\Roaming\\nltk_data...\n",
      "[nltk_data]   Package punkt is already up-to-date!\n",
      "[nltk_data] Downloading package averaged_perceptron_tagger to\n",
      "[nltk_data]     C:\\Users\\DoctorWho\\AppData\\Roaming\\nltk_data...\n",
      "[nltk_data]   Package averaged_perceptron_tagger is already up-to-\n",
      "[nltk_data]       date!\n"
     ]
    }
   ],
   "source": [
    "import concurrent.futures\n",
    "import requests\n",
    "from bs4 import BeautifulSoup as bs\n",
    "import matplotlib.pyplot as plt\n",
    "import re\n",
    "import csv\n",
    "import time\n",
    "import pandas as pd\n",
    "import numpy as np\n",
    "import nltk\n",
    "import collections\n",
    "from nltk.tokenize import word_tokenize\n",
    "nltk.download('wordnet')\n",
    "from nltk.stem import WordNetLemmatizer\n",
    "nltk.download('stopwords')\n",
    "from nltk.corpus import stopwords\n",
    "nltk.download('punkt')\n",
    "from nltk.probability import FreqDist\n",
    "nltk.download('averaged_perceptron_tagger')\n",
    "from sklearn.model_selection import train_test_split\n",
    "from sklearn.feature_extraction.text import TfidfVectorizer\n",
    "from sklearn.cluster import KMeans\n",
    "import cv2\n",
    "import urllib"
   ]
  },
  {
   "cell_type": "code",
   "execution_count": 53,
   "metadata": {},
   "outputs": [],
   "source": [
    "class webCrawler:\n",
    "    def __init__(self, theUrl:str):\n",
    "        article = requests.get(theUrl)\n",
    "        self.soup = bs(article.content, \"html.parser\")\n",
    "        self.url = theUrl\n",
    "        self.subArticles = self.get_articles()\n",
    "        self.allInfo = self.get_All_Info()\n",
    "        \n",
    "        \n",
    "        \n",
    "    def get_articles(self) -> list: \n",
    "        articles = []\n",
    "        theSoup = self.soup\n",
    "        buttons = theSoup.find_all('a', {'class': re.compile(r'.*paginator__button.*')})\n",
    "        buttonsList = [int(b.text) for b in buttons]\n",
    "        buttonsList.sort(reverse=True)\n",
    "        threads = min(20, buttonsList[0])\n",
    "        newUrl = re.search('https?://[a-zA-Z.]*', self.url)\n",
    "        pagePart = buttons[0].get(\"href\")\n",
    "        newUrls = [ (newUrl.group(0) + re.sub(\"p=\\d+\", \"p=\"+ str(i), pagePart)) for i in range(1, buttonsList[0] + 1)]\n",
    "        \n",
    "        with concurrent.futures.ThreadPoolExecutor(max_workers=threads) as executor:\n",
    "            for result in executor.map(self.findArticlesInPage, newUrls):\n",
    "                articles.extend(result)\n",
    "                \n",
    "        return articles\n",
    "    \n",
    "    \n",
    "    \n",
    "    def findArticlesInPage(self, newUrl) -> list:\n",
    "        articles = []\n",
    "        nextPage = requests.get(newUrl)\n",
    "        theSoup = bs(nextPage.content, \"html.parser\")\n",
    "        divs1 = theSoup.find_all('div', {'class': re.compile(r'.*topstories-news.*')})\n",
    "        divs2 = theSoup.find_all('div', {'class': re.compile(r'.*listing__articles.*')})\n",
    "        for a in divs1: \n",
    "            b = a.findChildren(\"article\")\n",
    "            for art in b: \n",
    "                articles.append(art)  \n",
    "        for a in divs2: \n",
    "            b = a.findChildren(\"article\")\n",
    "            for art in b: \n",
    "                articles.append(art)\n",
    "        time.sleep(0.25)\n",
    "        return articles\n",
    "    \n",
    "    \n",
    "    \n",
    "    def get_All_Info(self) -> list:\n",
    "        infoPerArticle = []\n",
    "        threads = min(30, len(self.subArticles))\n",
    "        with concurrent.futures.ThreadPoolExecutor(max_workers=threads) as executor:\n",
    "            for result in executor.map(self.get_All_Info_Helper, self.subArticles):\n",
    "                infoPerArticle.append(result)\n",
    "        return infoPerArticle\n",
    "    \n",
    "    def get_All_Info_Helper(self, a) -> dict:\n",
    "        images = []\n",
    "        im = a.findChildren(\"img\")[0]\n",
    "        temp = self.extract_img_info(im)\n",
    "        images.append(temp)\n",
    "        time.sleep(0.25)\n",
    "        newUrl = re.search('https?://[a-zA-Z.]*', self.url)\n",
    "        newUrl = newUrl.group(0) + a.findChildren(\"a\")[0].get(\"href\")\n",
    "        theArticle = requests.get(newUrl)\n",
    "        theSoup = bs(theArticle.content, \"html.parser\")\n",
    "        title = theSoup.find_all(\"h1\")\n",
    "        title = title[0].text if title else theSoup.find(\"h2\").text\n",
    "        theBod = theSoup.find_all('div', {'class': re.compile(r'.*article-content.*')})\n",
    "        if theBod == None:\n",
    "            theBod = theSoup.find_all('section', {'class': re.compile(r'.*article__container.*')})\n",
    "            if theBod == None: \n",
    "                theBod = theSoup.find_all(\"main\")\n",
    "                print(title, newUrl)\n",
    "        theBod = theBod[0]\n",
    "        allImgs = theBod.findChildren(\"img\")\n",
    "        for i in allImgs:\n",
    "            temp = self.extract_img_info(i)\n",
    "            images.append(temp)\n",
    "        temp = {}\n",
    "        temp[\"Title\"] = re.sub(\" *\\n *\", \"\", title)\n",
    "        temp[\"Images\"] = images\n",
    "        temp[\"URL\"] = newUrl\n",
    "        temp[\"Text\"] = [t.text for t in theBod.findChildren(\"p\")]\n",
    "        return temp\n",
    "        \n",
    "        \n",
    "    \n",
    "    def extract_img_info(self, im) -> dict:\n",
    "        text = im.get(\"alt\")\n",
    "        link = im.get(\"src\")\n",
    "        if not str(link).startswith(\"http\"):\n",
    "            link = im.get(\"data-src\")\n",
    "        temp = {}\n",
    "        temp[\"Image_Description\"] = text\n",
    "        temp[\"Link\"] = link\n",
    "        return temp"
   ]
  },
  {
   "cell_type": "code",
   "execution_count": 59,
   "metadata": {},
   "outputs": [],
   "source": [
    "c = webCrawler(\"https://www.euronews.com/tag/cyber-attacks\")"
   ]
  },
  {
   "cell_type": "code",
   "execution_count": 60,
   "metadata": {},
   "outputs": [],
   "source": [
    "info = c.allInfo"
   ]
  },
  {
   "cell_type": "code",
   "execution_count": 61,
   "metadata": {},
   "outputs": [],
   "source": [
    "for i in info: \n",
    "    d = i[\"Images\"]\n",
    "    t = i[\"Title\"]\n",
    "    l = i[\"URL\"]\n",
    "    for im in d: \n",
    "        im[\"Article_Title\"] = t\n",
    "        im[\"Article_URL\"] = l"
   ]
  },
  {
   "cell_type": "code",
   "execution_count": 62,
   "metadata": {},
   "outputs": [],
   "source": [
    "fn = 'CyberCrimeArticles-new.csv'\n",
    "with open(fn, 'w', newline='') as f:\n",
    "    w = csv.DictWriter(f, ['Image_Description', 'Link', 'Article_Title', 'Article_URL'])\n",
    "    w.writeheader()\n",
    "    for i in info:\n",
    "        for im in i[\"Images\"]:\n",
    "            w.writerow(im)"
   ]
  },
  {
   "cell_type": "code",
   "execution_count": 2,
   "metadata": {},
   "outputs": [
    {
     "data": {
      "text/html": [
       "<div>\n",
       "<style scoped>\n",
       "    .dataframe tbody tr th:only-of-type {\n",
       "        vertical-align: middle;\n",
       "    }\n",
       "\n",
       "    .dataframe tbody tr th {\n",
       "        vertical-align: top;\n",
       "    }\n",
       "\n",
       "    .dataframe thead th {\n",
       "        text-align: right;\n",
       "    }\n",
       "</style>\n",
       "<table border=\"1\" class=\"dataframe\">\n",
       "  <thead>\n",
       "    <tr style=\"text-align: right;\">\n",
       "      <th></th>\n",
       "      <th>Image_Description</th>\n",
       "      <th>Link</th>\n",
       "      <th>Article_Title</th>\n",
       "      <th>Article_URL</th>\n",
       "    </tr>\n",
       "  </thead>\n",
       "  <tbody>\n",
       "    <tr>\n",
       "      <th>0</th>\n",
       "      <td>Anonymous has claimed cyber attacks on Russian...</td>\n",
       "      <td>https://static.euronews.com/articles/stories/0...</td>\n",
       "      <td>Ukraine war: What part is hackers collective ...</td>\n",
       "      <td>https://www.euronews.com/next/2022/02/28/ukrai...</td>\n",
       "    </tr>\n",
       "    <tr>\n",
       "      <th>1</th>\n",
       "      <td>Euronews</td>\n",
       "      <td>https://static.euronews.com/articles/stories/0...</td>\n",
       "      <td>Ukraine war: What part is hackers collective ...</td>\n",
       "      <td>https://www.euronews.com/next/2022/02/28/ukrai...</td>\n",
       "    </tr>\n",
       "    <tr>\n",
       "      <th>2</th>\n",
       "      <td>As well as protecting against cyberattacks, Uk...</td>\n",
       "      <td>https://static.euronews.com/articles/stories/0...</td>\n",
       "      <td>Ukraine war: Ukrainians announce the launch of...</td>\n",
       "      <td>https://www.euronews.com/next/2022/02/26/ukrai...</td>\n",
       "    </tr>\n",
       "    <tr>\n",
       "      <th>3</th>\n",
       "      <td>Cyber attacks can disrupt essential services a...</td>\n",
       "      <td>https://static.euronews.com/articles/stories/0...</td>\n",
       "      <td>Is Russia using cyberattacks in the war with U...</td>\n",
       "      <td>https://www.euronews.com/next/2022/02/24/russi...</td>\n",
       "    </tr>\n",
       "    <tr>\n",
       "      <th>4</th>\n",
       "      <td>The cyberattack affected state-owned banks and...</td>\n",
       "      <td>https://static.euronews.com/articles/stories/0...</td>\n",
       "      <td>Ukraine's defence ministry and two banks targe...</td>\n",
       "      <td>https://www.euronews.com/my-europe/2022/02/15/...</td>\n",
       "    </tr>\n",
       "  </tbody>\n",
       "</table>\n",
       "</div>"
      ],
      "text/plain": [
       "                                   Image_Description  \\\n",
       "0  Anonymous has claimed cyber attacks on Russian...   \n",
       "1                                           Euronews   \n",
       "2  As well as protecting against cyberattacks, Uk...   \n",
       "3  Cyber attacks can disrupt essential services a...   \n",
       "4  The cyberattack affected state-owned banks and...   \n",
       "\n",
       "                                                Link  \\\n",
       "0  https://static.euronews.com/articles/stories/0...   \n",
       "1  https://static.euronews.com/articles/stories/0...   \n",
       "2  https://static.euronews.com/articles/stories/0...   \n",
       "3  https://static.euronews.com/articles/stories/0...   \n",
       "4  https://static.euronews.com/articles/stories/0...   \n",
       "\n",
       "                                       Article_Title  \\\n",
       "0  Ukraine war: What part is hackers collective ...   \n",
       "1  Ukraine war: What part is hackers collective ...   \n",
       "2  Ukraine war: Ukrainians announce the launch of...   \n",
       "3  Is Russia using cyberattacks in the war with U...   \n",
       "4  Ukraine's defence ministry and two banks targe...   \n",
       "\n",
       "                                         Article_URL  \n",
       "0  https://www.euronews.com/next/2022/02/28/ukrai...  \n",
       "1  https://www.euronews.com/next/2022/02/28/ukrai...  \n",
       "2  https://www.euronews.com/next/2022/02/26/ukrai...  \n",
       "3  https://www.euronews.com/next/2022/02/24/russi...  \n",
       "4  https://www.euronews.com/my-europe/2022/02/15/...  "
      ]
     },
     "execution_count": 2,
     "metadata": {},
     "output_type": "execute_result"
    }
   ],
   "source": [
    "# Initializing the dataset by reading the data from the CSV file \n",
    "dataset = pd.read_csv('CyberCrimeArticles-new.csv', encoding='latin-1')\n",
    "dataset.head()"
   ]
  },
  {
   "cell_type": "code",
   "execution_count": 3,
   "metadata": {},
   "outputs": [
    {
     "name": "stdout",
     "output_type": "stream",
     "text": [
      "<class 'pandas.core.frame.DataFrame'>\n",
      "RangeIndex: 93 entries, 0 to 92\n",
      "Data columns (total 4 columns):\n",
      " #   Column             Non-Null Count  Dtype \n",
      "---  ------             --------------  ----- \n",
      " 0   Image_Description  74 non-null     object\n",
      " 1   Link               93 non-null     object\n",
      " 2   Article_Title      93 non-null     object\n",
      " 3   Article_URL        93 non-null     object\n",
      "dtypes: object(4)\n",
      "memory usage: 3.0+ KB\n"
     ]
    }
   ],
   "source": [
    "dataset.info()"
   ]
  },
  {
   "cell_type": "code",
   "execution_count": 4,
   "metadata": {},
   "outputs": [],
   "source": [
    "def stats(im):\n",
    "    temp = [im.min(), im.max(), im.mean(), im.std()]\n",
    "    return temp"
   ]
  },
  {
   "cell_type": "code",
   "execution_count": 45,
   "metadata": {},
   "outputs": [],
   "source": [
    "def cluster(paths):\n",
    "    # Variables\n",
    "    number_clusters = 2\n",
    "\n",
    "    featurelist = []\n",
    "    theImages = [] \n",
    "    threads = min(30, len(paths))\n",
    "    with concurrent.futures.ThreadPoolExecutor(max_workers=threads) as executor:\n",
    "        for result in executor.map(clusterHelper, paths):\n",
    "            if result is None:\n",
    "                continue\n",
    "            featurelist.append(stats(result))\n",
    "            theImages.append(result)\n",
    "            \n",
    "    # Clustering\n",
    "    kmeans = KMeans(n_clusters=number_clusters, random_state=0).fit(np.array(featurelist))\n",
    "    return (theImages, featurelist, kmeans)\n",
    "\n",
    "    \n",
    "\n",
    "def clusterHelper(imagepath):\n",
    "    #print(\"Image: \", imagepath)\n",
    "    if imagepath != imagepath:\n",
    "        return None\n",
    "    try:\n",
    "        req = urllib.request.urlopen(imagepath)\n",
    "    except:\n",
    "        return None\n",
    "    arr = np.asarray(bytearray(req.read()), dtype=np.uint8)\n",
    "    im = cv2.imdecode(arr, -1)\n",
    "    #b, g, r = cv2.split(im)\n",
    "    #bh, t = np.histogram(b, bins=256)\n",
    "    #gh, t = np.histogram(g, bins=256)\n",
    "    #rh, t = np.histogram(r, bins=256)\n",
    "    #hist = np.hstack((bh,gh,rh)).ravel()\n",
    "\n",
    "    featurelist.append(stats(im))\n",
    "    time.sleep(0.3)\n",
    "    return im\n",
    "    "
   ]
  },
  {
   "cell_type": "code",
   "execution_count": 38,
   "metadata": {},
   "outputs": [],
   "source": [
    "theImages, featurelist, kmeans = cluster(dataset[\"Link\"])"
   ]
  },
  {
   "cell_type": "code",
   "execution_count": 8,
   "metadata": {},
   "outputs": [],
   "source": [
    "# Copy with cluster name\n",
    "for i, l in zip(theImages, kmeans.labels_):\n",
    "    cv2.putText(i,str(l), (101,101), cv2.FONT_HERSHEY_SIMPLEX, 2, 255)\n",
    "    cv2.imshow (\"out.png\", i)\n",
    "    cv2.waitKey(0)\n",
    "cv2.destroyAllWindows()"
   ]
  },
  {
   "cell_type": "code",
   "execution_count": 39,
   "metadata": {},
   "outputs": [
    {
     "data": {
      "text/plain": [
       "array([0, 1, 0, 0, 1, 0, 1, 1, 0, 0, 0, 0, 1, 0, 1, 1, 1, 0, 0, 0, 0, 1,\n",
       "       0, 0, 0, 0, 1, 0, 0, 0, 1, 0, 0, 0, 1, 0, 0, 0, 0, 0, 0, 0, 1, 0,\n",
       "       1, 0, 0, 0, 0, 0, 0, 0, 0, 1, 1, 0, 0, 0, 0, 0, 0, 0, 0, 0, 1, 0,\n",
       "       0, 0, 0, 0, 0, 0, 0, 0, 0, 0, 1, 0, 0, 0, 0, 0, 0, 0, 0, 1, 0, 0,\n",
       "       0, 0, 1, 0, 1])"
      ]
     },
     "execution_count": 39,
     "metadata": {},
     "output_type": "execute_result"
    }
   ],
   "source": [
    "kmeans.labels_"
   ]
  },
  {
   "cell_type": "code",
   "execution_count": 17,
   "metadata": {},
   "outputs": [
    {
     "name": "stdout",
     "output_type": "stream",
     "text": [
      "[[1 2 3 0]\n",
      " [1 2 3 0]]\n"
     ]
    }
   ],
   "source": [
    "order_centroids = kmeans.cluster_centers_.argsort()[:, ::-1]\n",
    "print(order_centroids)"
   ]
  },
  {
   "cell_type": "code",
   "execution_count": 30,
   "metadata": {},
   "outputs": [
    {
     "data": {
      "image/png": "[encoded data removed]",
      "text/plain": [
       "<Figure size 432x288 with 1 Axes>"
      ]
     },
     "metadata": {
      "needs_background": "light"
     },
     "output_type": "display_data"
    }
   ],
   "source": [
    "u_labels = np.unique(kmeans.labels_)\n",
    "zeros, ones = {\"Min\": [], \"Max\":[], \"Mean\":[], \"Std\":[]},  {\"Min\": [], \"Max\":[], \"Mean\":[], \"Std\":[]}\n",
    "for f, l in zip(featurelist, kmeans.labels_):\n",
    "    if(l == 0):\n",
    "        zeros[\"Min\"].append(f[0])\n",
    "        zeros[\"Max\"].append(f[1])\n",
    "        zeros[\"Mean\"].append(f[2])\n",
    "        zeros[\"Std\"].append(f[3])\n",
    "    else: \n",
    "        ones[\"Min\"].append(f[0])\n",
    "        ones[\"Max\"].append(f[1])\n",
    "        ones[\"Mean\"].append(f[2])\n",
    "        ones[\"Std\"].append(f[3])\n",
    "        \n",
    "    \n",
    "#plotting the results:\n",
    "plt.scatter(zeros[\"Min\"] , zeros[\"Max\"] , label = 0, color='red')\n",
    "plt.scatter(ones[\"Min\"] , ones[\"Max\"] , label = 1, color='green')\n",
    "plt.legend()\n",
    "plt.show()"
   ]
  },
  {
   "cell_type": "code",
   "execution_count": 31,
   "metadata": {},
   "outputs": [
    {
     "data": {
      "image/png": "[encoded data removed]",
      "text/plain": [
       "<Figure size 432x288 with 1 Axes>"
      ]
     },
     "metadata": {
      "needs_background": "light"
     },
     "output_type": "display_data"
    }
   ],
   "source": [
    "#plotting the results:\n",
    "plt.scatter(zeros[\"Mean\"] , zeros[\"Std\"] , label = 0, color='red')\n",
    "plt.scatter(ones[\"Mean\"] , ones[\"Std\"] , label = 1, color='green')\n",
    "plt.legend()\n",
    "plt.show()"
   ]
  },
  {
   "cell_type": "code",
   "execution_count": 32,
   "metadata": {},
   "outputs": [
    {
     "data": {
      "image/png": "[encoded data removed]",
      "text/plain": [
       "<Figure size 432x288 with 1 Axes>"
      ]
     },
     "metadata": {
      "needs_background": "light"
     },
     "output_type": "display_data"
    }
   ],
   "source": [
    "plt.scatter(zeros[\"Min\"] , zeros[\"Mean\"] , label = 0, color='red')\n",
    "plt.scatter(ones[\"Min\"] , ones[\"Mean\"] , label = 1, color='green')\n",
    "plt.legend()\n",
    "plt.show()"
   ]
  },
  {
   "cell_type": "code",
   "execution_count": 33,
   "metadata": {},
   "outputs": [
    {
     "data": {
      "image/png": "[encoded data removed]",
      "text/plain": [
       "<Figure size 432x288 with 1 Axes>"
      ]
     },
     "metadata": {
      "needs_background": "light"
     },
     "output_type": "display_data"
    }
   ],
   "source": [
    "plt.scatter(zeros[\"Mean\"] , zeros[\"Max\"] , label = 0, color='red')\n",
    "plt.scatter(ones[\"Mean\"] , ones[\"Max\"] , label = 1, color='green')\n",
    "plt.legend()\n",
    "plt.show()"
   ]
  },
  {
   "cell_type": "code",
   "execution_count": 6,
   "metadata": {},
   "outputs": [],
   "source": [
    "def lemmatizeList( li ):\n",
    "    lemmatizer = WordNetLemmatizer()\n",
    "    res = []\n",
    "    for theWord, theTag in nltk.pos_tag(li):\n",
    "        if theTag.startswith(\"VB\"):\n",
    "            res.append( lemmatizer.lemmatize(theWord, pos = 'v') )\n",
    "        elif theTag.startswith(\"NN\"):\n",
    "            res.append( lemmatizer.lemmatize(theWord, pos = 'n') )\n",
    "        elif theTag.startswith(\"RB\"):\n",
    "            res.append( lemmatizer.lemmatize(theWord, pos = 'r') )\n",
    "        elif theTag.startswith(\"JJ\"):\n",
    "            res.append( lemmatizer.lemmatize(theWord, pos = 'a') )\n",
    "    return res\n"
   ]
  },
  {
   "cell_type": "code",
   "execution_count": 13,
   "metadata": {},
   "outputs": [],
   "source": [
    "stop_words = set(stopwords.words('english'))\n",
    "allwords = []\n",
    "\n",
    "for i in range(0, len(dataset['Image_Description'])):\n",
    "    sent = dataset.loc[i,'Image_Description']\n",
    "    if sent != sent:\n",
    "        continue\n",
    "        \n",
    "    # Use a regex to catch all single letter words, html tags or other non-alphanumeric characters then substitute them with a space\n",
    "    cleaned = re.sub(r\"(?:(?:^|\\s+)[a-zA-Z]\\s+)|<.*?>|\\W\", ' ', sent)\n",
    "    \n",
    "    # Tokenize the sentence using word_tokenize method\n",
    "    tokenized_sent = [word for word in word_tokenize(cleaned.lower())]\n",
    "\n",
    "    # remove stopwords\n",
    "    noStop = [word for word in tokenized_sent if word not in stop_words]\n",
    "    \n",
    "    # lemmatize sentence \n",
    "    lemmatized_words = lemmatizeList( noStop )\n",
    "    \n",
    "    allwords.append( \" \".join(lemmatized_words) )"
   ]
  },
  {
   "cell_type": "code",
   "execution_count": 14,
   "metadata": {},
   "outputs": [],
   "source": [
    "tfidf_vectorizer = TfidfVectorizer(min_df = 2, max_df = 0.6, ngram_range=(1,3))\n",
    "vect = tfidf_vectorizer.fit_transform(allwords)"
   ]
  },
  {
   "cell_type": "code",
   "execution_count": 15,
   "metadata": {},
   "outputs": [
    {
     "data": {
      "text/plain": [
       "KMeans(max_iter=100, n_clusters=2, n_init=1)"
      ]
     },
     "execution_count": 15,
     "metadata": {},
     "output_type": "execute_result"
    }
   ],
   "source": [
    "true_k = 2\n",
    "model = KMeans(n_clusters=true_k, init='k-means++', max_iter=100, n_init=1)\n",
    "model.fit(vect)"
   ]
  },
  {
   "cell_type": "code",
   "execution_count": 16,
   "metadata": {},
   "outputs": [
    {
     "name": "stdout",
     "output_type": "stream",
     "text": [
      "[[ 52   3  40  63  39  71  54  86  55  44  41  67 119  49  94  70  85  16\n",
      "   17  72  18  23  58  81 101  47  77 134 133 128  73  83  74  64  56 118\n",
      "  141 103  62  42  43  45  78  97  46  79 111  88 109 108  87  53  12 110\n",
      "   61  95  96 131  82 132   5 137 112 116   4 138 113  27  66  80 139  36\n",
      "    2  29  37   1  35  34  33  32  31   7   8  30   6  25  28  20  11  14\n",
      "   15  38 136  19  21  26  22 135  10   9  24  13 104 125 130  91 114  75\n",
      "   76  84 107  89  90  92 129  93 106  98  99 100 105 102 115 140  69  68\n",
      "  127  48 126  50  51 124 123 122  57 121  59  60 120 117  65   0]\n",
      " [ 30   5  31 102 104  34 103  27 111  19 105 127 117  36  49 135  37 116\n",
      "   22  57  38 136 121  24  89  90  48  84 124 126 125  60  32  65  59   6\n",
      "   71  58  12  29 122 130  28 129 123  35 120 112  53 110 137  83   4  23\n",
      "   15  14  91  92  93  13  50  10   9  51  11  40  16  44  66  77 114 100\n",
      "  106 107   8   7  75  98  33   2   1 139 115  99   0  69  76  26  25  20\n",
      "   21 140  68  62  80 138  74 113 128   3  17  18 141  39 101  86  87  88\n",
      "   94  95  96  97 108  82 109 118 119 131 132 133 134  85  81  41  55  42\n",
      "   43  45  46  47  52  54  56  79  61  63  64  67  72  73  78  70]]\n",
      "['anonymous', 'anonymous claim', 'anonymous claim cyber', 'ap', 'army', 'attack', 'attack hit', 'attack russian', 'attack russian medium', 'back', 'back cyber', 'back cyber war', 'base', 'bite', 'bite back', 'bite back cyber', 'brief', 'busly', 'busly latsyats', 'claim', 'claim cyber', 'claim cyber attack', 'command', 'conference', 'country', 'country invasion', 'country invasion ukraine', 'crime', 'crime threat', 'crime threat virtual', 'cyber', 'cyber attack', 'cyber attack hit', 'cyber attack russian', 'cyber crime', 'cyber crime threat', 'cyber security', 'cyber war', 'cyber warfare', 'cyberattack', 'cybersecurity', 'cyberspace', 'defence', 'defence report', 'digital', 'digital defence', 'digital defence report', 'digital revolution', 'election', 'eu', 'eu pressure', 'eu pressure bite', 'euronews', 'europe', 'european', 'europol', 'france', 'germany', 'global', 'global cyber', 'global cyber attack', 'gru', 'hack', 'hacker', 'headquarters', 'hit', 'intelligence', 'international', 'invasion', 'invasion ukraine', 'july', 'know', 'latsyats', 'lille', 'medium', 'medium state', 'medium state website', 'microsoft', 'microsoft digital', 'microsoft digital defence', 'military', 'monday', 'moscow', 'network', 'obama', 'parliament', 'president', 'president vladimir', 'president vladimir putin', 'presidential', 'presidential election', 'pressure', 'pressure bite', 'pressure bite back', 'putin', 'putin visit', 'putin visit gru', 'report', 'retaliation', 'retaliation country', 'retaliation country invasion', 'revolution', 'russia', 'russian', 'russian cyber', 'russian cyber attack', 'russian medium', 'russian medium state', 'russian president', 'russian president vladimir', 'secure', 'security', 'service', 'state', 'state website', 'state website retaliation', 'strike', 'take', 'target', 'tech', 'terrorism', 'threat', 'threat virtual', 'threat virtual terrorism', 'tough', 'tough cyber', 'tough cyber security', 'uk', 'ukraine', 'virtual', 'virtual terrorism', 'visit', 'visit gru', 'vladimir', 'vladimir putin', 'war', 'warfare', 'way', 'website', 'website retaliation', 'website retaliation country', 'well']\n"
     ]
    }
   ],
   "source": [
    "order_centroids = model.cluster_centers_.argsort()[:, ::-1]\n",
    "print(order_centroids)\n",
    "terms = tfidf_vectorizer.get_feature_names()\n",
    "print(terms)"
   ]
  },
  {
   "cell_type": "code",
   "execution_count": 17,
   "metadata": {},
   "outputs": [
    {
     "name": "stdout",
     "output_type": "stream",
     "text": [
      "Cluster 0:\n",
      " euronews\n",
      " ap\n",
      " cybersecurity\n",
      " hacker\n",
      " cyberattack\n",
      " know\n",
      " european\n",
      " president\n",
      " europol\n",
      " digital\n",
      "Cluster 1:\n",
      " cyber\n",
      " attack\n",
      " cyber attack\n",
      " russia\n",
      " russian cyber\n",
      " cyber crime\n",
      " russian\n",
      " crime\n",
      " security\n",
      " claim\n"
     ]
    }
   ],
   "source": [
    "for i in range(true_k):\n",
    "    print(\"Cluster %d:\" % i),\n",
    "    for ind in order_centroids[i, :10]:\n",
    "        print(' %s' % terms[ind])"
   ]
  },
  {
   "cell_type": "code",
   "execution_count": 54,
   "metadata": {},
   "outputs": [],
   "source": [
    "c2 = webCrawler(\"https://www.euronews.com/tag/business\")"
   ]
  },
  {
   "cell_type": "code",
   "execution_count": 55,
   "metadata": {},
   "outputs": [],
   "source": [
    "info2 = c2.allInfo"
   ]
  },
  {
   "cell_type": "code",
   "execution_count": 56,
   "metadata": {},
   "outputs": [],
   "source": [
    "for i in info2: \n",
    "    d = i[\"Images\"]\n",
    "    t = i[\"Title\"]\n",
    "    l = i[\"URL\"]\n",
    "    p = i[\"Text\"]\n",
    "    for im in d: \n",
    "        im[\"Article_Title\"] = t\n",
    "        im[\"Article_URL\"] = l\n",
    "        im[\"Article_Text\"] = p"
   ]
  },
  {
   "cell_type": "code",
   "execution_count": 58,
   "metadata": {},
   "outputs": [],
   "source": [
    "fn = 'CyberCrimeArticles-3.csv'\n",
    "with open(fn, 'w', newline='', encoding='utf-8') as f:\n",
    "    w = csv.DictWriter(f, ['Image_Description', 'Link', 'Article_Title', 'Article_URL', 'Article_Text'])\n",
    "    w.writeheader()\n",
    "    for i in info2:\n",
    "        for im in i[\"Images\"]:\n",
    "            w.writerow(im)"
   ]
  },
  {
   "cell_type": "code",
   "execution_count": 18,
   "metadata": {},
   "outputs": [
    {
     "data": {
      "text/html": [
       "<div>\n",
       "<style scoped>\n",
       "    .dataframe tbody tr th:only-of-type {\n",
       "        vertical-align: middle;\n",
       "    }\n",
       "\n",
       "    .dataframe tbody tr th {\n",
       "        vertical-align: top;\n",
       "    }\n",
       "\n",
       "    .dataframe thead th {\n",
       "        text-align: right;\n",
       "    }\n",
       "</style>\n",
       "<table border=\"1\" class=\"dataframe\">\n",
       "  <thead>\n",
       "    <tr style=\"text-align: right;\">\n",
       "      <th></th>\n",
       "      <th>Image_Description</th>\n",
       "      <th>Link</th>\n",
       "      <th>Article_Title</th>\n",
       "      <th>Article_URL</th>\n",
       "      <th>Article_Text</th>\n",
       "    </tr>\n",
       "  </thead>\n",
       "  <tbody>\n",
       "    <tr>\n",
       "      <th>0</th>\n",
       "      <td>Rapid delivery's rapid rise has led to tension...</td>\n",
       "      <td>https://static.euronews.com/articles/stories/0...</td>\n",
       "      <td>Dutch cities temporarily banned 10-minute deli...</td>\n",
       "      <td>https://www.euronews.com/next/2022/02/24/dutch...</td>\n",
       "      <td>['Noise, reckless cycling and blacked-out wind...</td>\n",
       "    </tr>\n",
       "    <tr>\n",
       "      <th>1</th>\n",
       "      <td>Start-up conference Step in Dubai Internet City.</td>\n",
       "      <td>https://static.euronews.com/articles/stories/0...</td>\n",
       "      <td>How Dubai Internet City is becoming a hub for ...</td>\n",
       "      <td>https://www.euronews.com/next/2022/02/23/how-d...</td>\n",
       "      <td>['Khazna, one of the largest data centre infra...</td>\n",
       "    </tr>\n",
       "    <tr>\n",
       "      <th>2</th>\n",
       "      <td>Meta CEO Mark Zuckerberg said the company's co...</td>\n",
       "      <td>https://static.euronews.com/articles/stories/0...</td>\n",
       "      <td>Ahoy, Metamates! Meta continues rebranding eff...</td>\n",
       "      <td>https://www.euronews.com/next/2022/02/16/ahoy-...</td>\n",
       "      <td>[\"Employees at Facebook's parent company Meta ...</td>\n",
       "    </tr>\n",
       "    <tr>\n",
       "      <th>3</th>\n",
       "      <td>Carolyn Kaster/AP Photo</td>\n",
       "      <td>https://static.euronews.com/articles/stories/0...</td>\n",
       "      <td>Ahoy, Metamates! Meta continues rebranding eff...</td>\n",
       "      <td>https://www.euronews.com/next/2022/02/16/ahoy-...</td>\n",
       "      <td>[\"Employees at Facebook's parent company Meta ...</td>\n",
       "    </tr>\n",
       "    <tr>\n",
       "      <th>4</th>\n",
       "      <td>Choosing a green pension could be better for t...</td>\n",
       "      <td>https://static.euronews.com/articles/stories/0...</td>\n",
       "      <td>Green pensions could be the âmost powerful w...</td>\n",
       "      <td>https://www.euronews.com/green/2022/02/15/gree...</td>\n",
       "      <td>['Switching to a sustainable pension could be ...</td>\n",
       "    </tr>\n",
       "  </tbody>\n",
       "</table>\n",
       "</div>"
      ],
      "text/plain": [
       "                                   Image_Description  \\\n",
       "0  Rapid delivery's rapid rise has led to tension...   \n",
       "1  Start-up conference Step in Dubai Internet City.    \n",
       "2  Meta CEO Mark Zuckerberg said the company's co...   \n",
       "3                            Carolyn Kaster/AP Photo   \n",
       "4  Choosing a green pension could be better for t...   \n",
       "\n",
       "                                                Link  \\\n",
       "0  https://static.euronews.com/articles/stories/0...   \n",
       "1  https://static.euronews.com/articles/stories/0...   \n",
       "2  https://static.euronews.com/articles/stories/0...   \n",
       "3  https://static.euronews.com/articles/stories/0...   \n",
       "4  https://static.euronews.com/articles/stories/0...   \n",
       "\n",
       "                                       Article_Title  \\\n",
       "0  Dutch cities temporarily banned 10-minute deli...   \n",
       "1  How Dubai Internet City is becoming a hub for ...   \n",
       "2  Ahoy, Metamates! Meta continues rebranding eff...   \n",
       "3  Ahoy, Metamates! Meta continues rebranding eff...   \n",
       "4  Green pensions could be the âmost powerful w...   \n",
       "\n",
       "                                         Article_URL  \\\n",
       "0  https://www.euronews.com/next/2022/02/24/dutch...   \n",
       "1  https://www.euronews.com/next/2022/02/23/how-d...   \n",
       "2  https://www.euronews.com/next/2022/02/16/ahoy-...   \n",
       "3  https://www.euronews.com/next/2022/02/16/ahoy-...   \n",
       "4  https://www.euronews.com/green/2022/02/15/gree...   \n",
       "\n",
       "                                        Article_Text  \n",
       "0  ['Noise, reckless cycling and blacked-out wind...  \n",
       "1  ['Khazna, one of the largest data centre infra...  \n",
       "2  [\"Employees at Facebook's parent company Meta ...  \n",
       "3  [\"Employees at Facebook's parent company Meta ...  \n",
       "4  ['Switching to a sustainable pension could be ...  "
      ]
     },
     "execution_count": 18,
     "metadata": {},
     "output_type": "execute_result"
    }
   ],
   "source": [
    "# Initializing the dataset by reading the data from the CSV file \n",
    "dataset2 = pd.read_csv('CyberCrimeArticles-3.csv', encoding='latin-1')\n",
    "dataset2.head()"
   ]
  },
  {
   "cell_type": "code",
   "execution_count": 19,
   "metadata": {},
   "outputs": [
    {
     "name": "stdout",
     "output_type": "stream",
     "text": [
      "<class 'pandas.core.frame.DataFrame'>\n",
      "RangeIndex: 1874 entries, 0 to 1873\n",
      "Data columns (total 5 columns):\n",
      " #   Column             Non-Null Count  Dtype \n",
      "---  ------             --------------  ----- \n",
      " 0   Image_Description  1588 non-null   object\n",
      " 1   Link               1863 non-null   object\n",
      " 2   Article_Title      1874 non-null   object\n",
      " 3   Article_URL        1874 non-null   object\n",
      " 4   Article_Text       1874 non-null   object\n",
      "dtypes: object(5)\n",
      "memory usage: 73.3+ KB\n"
     ]
    }
   ],
   "source": [
    "dataset2.info()"
   ]
  },
  {
   "cell_type": "code",
   "execution_count": 46,
   "metadata": {},
   "outputs": [],
   "source": [
    "theImages2, featurelist2, kmeans2 = cluster(dataset2[\"Link\"])"
   ]
  },
  {
   "cell_type": "code",
   "execution_count": 47,
   "metadata": {},
   "outputs": [
    {
     "data": {
      "text/plain": [
       "array([1, 0, 1, ..., 1, 0, 0])"
      ]
     },
     "execution_count": 47,
     "metadata": {},
     "output_type": "execute_result"
    }
   ],
   "source": [
    "kmeans2.labels_"
   ]
  },
  {
   "cell_type": "code",
   "execution_count": 48,
   "metadata": {},
   "outputs": [
    {
     "data": {
      "image/png": "[encoded data removed]",
      "text/plain": [
       "<Figure size 432x288 with 1 Axes>"
      ]
     },
     "metadata": {
      "needs_background": "light"
     },
     "output_type": "display_data"
    }
   ],
   "source": [
    "u_labels = np.unique(kmeans2.labels_)\n",
    "zeros, ones = {\"Min\": [], \"Max\":[], \"Mean\":[], \"Std\":[]},  {\"Min\": [], \"Max\":[], \"Mean\":[], \"Std\":[]}\n",
    "for f, l in zip(featurelist2, kmeans2.labels_):\n",
    "    if(l == 0):\n",
    "        zeros[\"Min\"].append(f[0])\n",
    "        zeros[\"Max\"].append(f[1])\n",
    "        zeros[\"Mean\"].append(f[2])\n",
    "        zeros[\"Std\"].append(f[3])\n",
    "    else: \n",
    "        ones[\"Min\"].append(f[0])\n",
    "        ones[\"Max\"].append(f[1])\n",
    "        ones[\"Mean\"].append(f[2])\n",
    "        ones[\"Std\"].append(f[3])\n",
    "        \n",
    "    \n",
    "#plotting the results:\n",
    "plt.scatter(zeros[\"Mean\"] , zeros[\"Std\"] , label = 0, color='red')\n",
    "plt.scatter(ones[\"Mean\"] , ones[\"Std\"] , label = 1, color='green')\n",
    "plt.legend()\n",
    "plt.show()"
   ]
  },
  {
   "cell_type": "code",
   "execution_count": 49,
   "metadata": {},
   "outputs": [
    {
     "data": {
      "image/png": "[encoded data removed]",
      "text/plain": [
       "<Figure size 432x288 with 1 Axes>"
      ]
     },
     "metadata": {
      "needs_background": "light"
     },
     "output_type": "display_data"
    }
   ],
   "source": [
    "plt.scatter(zeros[\"Min\"] , zeros[\"Max\"] , label = 0, color='red')\n",
    "plt.scatter(ones[\"Min\"] , ones[\"Max\"] , label = 1, color='green')\n",
    "plt.legend()\n",
    "plt.show()"
   ]
  },
  {
   "cell_type": "code",
   "execution_count": 50,
   "metadata": {},
   "outputs": [
    {
     "data": {
      "image/png": "[encoded data removed]",
      "text/plain": [
       "<Figure size 432x288 with 1 Axes>"
      ]
     },
     "metadata": {
      "needs_background": "light"
     },
     "output_type": "display_data"
    }
   ],
   "source": [
    "plt.scatter(zeros[\"Mean\"] , zeros[\"Min\"] , label = 0, color='red')\n",
    "plt.scatter(ones[\"Mean\"] , ones[\"Min\"] , label = 1, color='green')\n",
    "plt.legend()\n",
    "plt.show()"
   ]
  },
  {
   "cell_type": "code",
   "execution_count": null,
   "metadata": {},
   "outputs": [],
   "source": []
  }
 ],
 "metadata": {
  "kernelspec": {
   "display_name": "Python 3",
   "language": "python",
   "name": "python3"
  },
  "language_info": {
   "codemirror_mode": {
    "name": "ipython",
    "version": 3
   },
   "file_extension": ".py",
   "mimetype": "text/x-python",
   "name": "python",
   "nbconvert_exporter": "python",
   "pygments_lexer": "ipython3",
   "version": "3.8.5"
  }
 },
 "nbformat": 4,
 "nbformat_minor": 4
}
