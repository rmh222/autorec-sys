{
 "cells": [
  {
   "cell_type": "code",
   "execution_count": 1,
   "id": "3e492cb2",
   "metadata": {},
   "outputs": [
    {
     "name": "stdout",
     "output_type": "stream",
     "text": [
      "Defaulting to user installation because normal site-packages is not writeable\n",
      "Requirement already satisfied: beautifulsoup4 in c:\\programdata\\anaconda3\\lib\\site-packages (4.9.3)\n",
      "Requirement already satisfied: requests in c:\\programdata\\anaconda3\\lib\\site-packages (2.25.1)\n",
      "Requirement already satisfied: soupsieve>1.2 in c:\\programdata\\anaconda3\\lib\\site-packages (from beautifulsoup4) (2.2.1)\n",
      "Requirement already satisfied: chardet<5,>=3.0.2 in c:\\programdata\\anaconda3\\lib\\site-packages (from requests) (4.0.0)\n",
      "Requirement already satisfied: certifi>=2017.4.17 in c:\\programdata\\anaconda3\\lib\\site-packages (from requests) (2020.12.5)\n",
      "Requirement already satisfied: idna<3,>=2.5 in c:\\programdata\\anaconda3\\lib\\site-packages (from requests) (2.10)\n",
      "Requirement already satisfied: urllib3<1.27,>=1.21.1 in c:\\programdata\\anaconda3\\lib\\site-packages (from requests) (1.26.4)\n"
     ]
    }
   ],
   "source": [
    "!pip install beautifulsoup4 requests"
   ]
  },
  {
   "cell_type": "code",
   "execution_count": 26,
   "id": "451235a5",
   "metadata": {},
   "outputs": [],
   "source": [
    "import requests\n",
    "from bs4 import BeautifulSoup as bs\n",
    "import re\n",
    "import csv"
   ]
  },
  {
   "cell_type": "code",
   "execution_count": 18,
   "id": "1735e35c",
   "metadata": {},
   "outputs": [],
   "source": [
    "class BBCWebCrawler:\n",
    "    def __init__(self, theUrl:str):\n",
    "        article = requests.get(theUrl)\n",
    "        self.soup = bs(article.content, \"html.parser\")\n",
    "        self.title = self.get_title()\n",
    "        self.body = self.get_article()[0]\n",
    "        self.images = self.get_images()\n",
    "        self.paragraphs = self.get_paragraphs()\n",
    "        self.hlinks = self.get_hlinks()\n",
    "        self.subheadings = self.get_subheadings()\n",
    "        self.author = self.get_author_details()\n",
    "        \n",
    "    def get_article(self) -> list:\n",
    "        return self.soup.find_all(\"article\")\n",
    "    \n",
    "    def get_title(self) -> str:\n",
    "        return self.soup.html.head.title.text\n",
    "    \n",
    "    def get_subheadings(self) -> list:\n",
    "        subhds = self.body.findChildren(\"h2\")\n",
    "        return [h.text for h in subhds] \n",
    "    \n",
    "    def get_images(self) -> list:\n",
    "        ims = self.body.findChildren(\"img\")\n",
    "        descriptionsAndPaths = []\n",
    "        for im in ims: \n",
    "            if \"<header\" not in str(im.parent):\n",
    "                temp = {}\n",
    "                temp[\"Name\"] = im.get(\"alt\")\n",
    "                temp[\"Link\"] = im.get(\"src\")\n",
    "                descriptionsAndPaths.append(temp)\n",
    "        return descriptionsAndPaths\n",
    "    \n",
    "    def get_paragraphs(self) -> list:\n",
    "        ps = self.body.findChildren(\"p\")\n",
    "        return [t.text for t in ps if \"<header\" not in str(t.parent)]\n",
    "    \n",
    "    def get_hlinks(self) -> list:\n",
    "        links = self.body.findChildren(\"a\")\n",
    "        return [l.get(\"href\") for l in links]\n",
    "    \n",
    "    def get_author_details(self) -> dict: \n",
    "        head = self.soup.find_all('p', {'class': re.compile(r'.*Contributor.*')})\n",
    "        theAuthor = head[0]\n",
    "        temp = {}\n",
    "        temp[\"Author_Image\"] = theAuthor.findChildren(\"img\")[0].get(\"src\")\n",
    "        temp[\"Author_Name\"] = theAuthor.findChildren(\"strong\")[0].text\n",
    "        #temp[\"Author_Occupation\"] = \n",
    "        thelinks = theAuthor.findChildren(\"a\")\n",
    "        temp[\"Author_link\"] = thelinks[0].get(\"href\")\n",
    "        temp[\"Author_SocialMedia\"] = thelinks[1].get(\"href\")\n",
    "        return temp"
   ]
  },
  {
   "cell_type": "code",
   "execution_count": 19,
   "id": "04843b88",
   "metadata": {},
   "outputs": [],
   "source": [
    "parsed = BBCWebCrawler(\"https://www.bbc.co.uk/news/health-60324928\")"
   ]
  },
  {
   "cell_type": "code",
   "execution_count": 20,
   "id": "61b1cef2",
   "metadata": {},
   "outputs": [
    {
     "data": {
      "text/plain": [
       "{'Author_Image': 'https://ichef.bbci.co.uk/news/64/cpsprodpb/141F0/production/_112961428_nicktriggle.jpg',\n",
       " 'Author_Name': 'Nick Triggle',\n",
       " 'Author_link': '/news/correspondents/nicktriggle',\n",
       " 'Author_SocialMedia': 'https://www.twitter.com/nicktriggle'}"
      ]
     },
     "execution_count": 20,
     "metadata": {},
     "output_type": "execute_result"
    }
   ],
   "source": [
    "parsed.author"
   ]
  },
  {
   "cell_type": "code",
   "execution_count": 21,
   "id": "b090568f",
   "metadata": {},
   "outputs": [
    {
     "data": {
      "text/plain": [
       "\"Is ending the last Covid rule 'brave or stupid'? - BBC News\""
      ]
     },
     "execution_count": 21,
     "metadata": {},
     "output_type": "execute_result"
    }
   ],
   "source": [
    "parsed.title"
   ]
  },
  {
   "cell_type": "code",
   "execution_count": 22,
   "id": "3da08402",
   "metadata": {},
   "outputs": [
    {
     "data": {
      "text/plain": [
       "['The case for relaxing is not clear cut',\n",
       " 'The impact could be marginal',\n",
       " 'More on this story',\n",
       " 'Related Topics']"
      ]
     },
     "execution_count": 22,
     "metadata": {},
     "output_type": "execute_result"
    }
   ],
   "source": [
    "parsed.subheadings"
   ]
  },
  {
   "cell_type": "code",
   "execution_count": 23,
   "id": "6f915e71",
   "metadata": {},
   "outputs": [
    {
     "data": {
      "text/plain": [
       "[{'Name': '',\n",
       "  'Link': 'https://ichef.bbci.co.uk/news/64/cpsprodpb/141F0/production/_112961428_nicktriggle.jpg'},\n",
       " {'Name': 'A woman looks out her window',\n",
       "  'Link': 'https://ichef.bbci.co.uk/news/976/cpsprodpb/D688/production/_122602945_gettyimages-1215743266.jpg'},\n",
       " {'Name': 'Chart showing excess deaths',\n",
       "  'Link': 'https://ichef.bbci.co.uk/news/2048/cpsprodpb/08A2/production/_123201220_optimised-uk_mortality_v_average__08feb-nc.png'},\n",
       " {'Name': 'Presentational white space',\n",
       "  'Link': 'https://ichef.bbci.co.uk/news/624/cpsprodpb/63B0/production/_117302552_a6bc73e5-91d8-4252-b778-e93e82abc65b.png'},\n",
       " {'Name': 'Chart showing infections',\n",
       "  'Link': 'https://ichef.bbci.co.uk/news/2048/cpsprodpb/13D3A/production/_123201218_optimised-ons_uk_timeseries_09feb-nc.png'},\n",
       " {'Name': 'Presentational white space',\n",
       "  'Link': 'https://ichef.bbci.co.uk/news/624/cpsprodpb/63B0/production/_117302552_a6bc73e5-91d8-4252-b778-e93e82abc65b.png'},\n",
       " {'Name': \"Banner image reading 'more about coronavirus'\",\n",
       "  'Link': 'https://ichef.bbci.co.uk/news/2048/cpsprodpb/B898/production/_111165274_cps_web_banner_top_640x3-nc.png'},\n",
       " {'Name': 'Banner',\n",
       "  'Link': 'https://ichef.bbci.co.uk/news/2048/cpsprodpb/D7D8/production/_111165255_cps_web_banner_bottom_640x3-nc.png'},\n",
       " {'Name': \"Banner saying 'Get in touch'\",\n",
       "  'Link': 'https://ichef.bbci.co.uk/news/2048/cpsprodpb/1739F/production/_113753159_yqa_get_in_touch_top_no_yqa_text_640-nc.png'}]"
      ]
     },
     "execution_count": 23,
     "metadata": {},
     "output_type": "execute_result"
    }
   ],
   "source": [
    "parsed.images"
   ]
  },
  {
   "cell_type": "code",
   "execution_count": 24,
   "id": "0b3c06a3",
   "metadata": {},
   "outputs": [
    {
     "data": {
      "text/plain": [
       "['/news/correspondents/nicktriggle',\n",
       " 'https://www.twitter.com/nicktriggle',\n",
       " '#comments',\n",
       " 'https://www.bbc.co.uk/usingthebbc/terms/can-i-share-things-from-the-bbc',\n",
       " '/news/topics/cyz0z8w0ydwt',\n",
       " 'https://www.bbc.co.uk/news/uk-60319947',\n",
       " 'https://www.bbc.co.uk/news/explainers-54239922',\n",
       " 'https://www.bbc.co.uk/news/explainers-52530518',\n",
       " 'https://twitter.com/nicktriggle',\n",
       " 'http://www.bbc.co.uk/nicktriggle',\n",
       " 'https://www.bbc.co.uk/news/uk-51768274',\n",
       " 'https://www.bbc.co.uk/news/world-asia-china-51176409',\n",
       " 'https://www.bbc.co.uk/news/world-51235105',\n",
       " 'https://www.bbc.co.uk/news/health-52354520',\n",
       " 'https://www.bbc.co.uk/news/health-52003804',\n",
       " 'mailto:haveyoursay@bbc.co.uk?subject=CovidRestrictions60324928',\n",
       " 'http://twitter.com/BBC_HaveYourSay',\n",
       " 'https://www.bbc.co.uk/send/u16904890',\n",
       " 'http://www.bbc.co.uk/usingthebbc/terms/',\n",
       " 'http://www.bbc.co.uk/usingthebbc/privacy-policy/',\n",
       " 'https://www.bbc.co.uk/news/have_your_say',\n",
       " 'mailto:Haveyoursay@bbc.co.uk',\n",
       " '/news/uk-51768274',\n",
       " '/news/world-51235105',\n",
       " '/news/topics/ck2l9qxx17nt',\n",
       " '/news/topics/cv2p1ppg6n7t',\n",
       " '/news/topics/cyz0z8w0ydwt']"
      ]
     },
     "execution_count": 24,
     "metadata": {},
     "output_type": "execute_result"
    }
   ],
   "source": [
    "parsed.hlinks"
   ]
  },
  {
   "cell_type": "code",
   "execution_count": 25,
   "id": "a2229374",
   "metadata": {},
   "outputs": [
    {
     "data": {
      "text/plain": [
       "['The last remaining Covid restriction in England could be gone in weeks, after the prime minister announced the legal requirement to isolate after a positive test may be scrapped early.',\n",
       " 'The plan had been to end it on 24 March - but if the trends remained positive, Boris Johnson said, it could go a month early.',\n",
       " 'The move has taken many experts by surprise, with one describing it as either brave or stupid.',\n",
       " 'As often with Covid, the evidence is unclear.',\n",
       " 'Certainly questions are being asked about the politics of the move, with the prime minister under continuing pressure. ',\n",
       " 'But there is plenty of positive news in the latest data - as the prime minister suggested. ',\n",
       " 'Hospital cases are falling and, despite the large wave of Omicron infections, overall deaths have not risen above what would normally be seen in winter.',\n",
       " 'With new treatments and a huge amount of immunity in the population, from both vaccination and infection, the risk from the virus is lessening all the time.',\n",
       " 'Other nations are also relaxing rules around self-isolation. Denmark, for example, now requires people to stay at home only if they have symptoms.',\n",
       " 'Nonetheless, there are also grounds for caution. Infection levels remain high.',\n",
       " 'And the Office for National Statistics (ONS) monitoring programme suggests they may even be rising again, with about one out of every 19 people in England positive last week.',\n",
       " 'Coupled with this is the rise of a sub-variant of Omicron, BA.2, thought to be even more transmissible than the version, first identified in South Africa, that caused the Christmas surge. BA.2 now accounts for an estimated one out of every six infections - a proportion that is growing every week.',\n",
       " 'This is one of the reasons Prof Paul Hunter, an expert in infectious disease, at the University of East Anglia, was surprised by the announcement on self-isolation.',\n",
       " '\"At some point, it is going to be the case that all remaining restrictions are dropped, including the need to self-isolate, though I certainly didn\\'t expect that to happen this month,\" he says.',\n",
       " 'Prof Hunter would have preferred to wait a little bit longer to see what happens with infections and the sub-variant.',\n",
       " 'Dr Simon Clarke, from the University of Reading, who says that the move is either \"brave or stupid\", explains that the problem is nobody knows for sure what the impact will be.',\n",
       " 'Some believe people could now feel pressurised into returning to work before they are physically ready or no longer infectious.',\n",
       " 'It is worth bearing in mind, though, not every infected person was isolating anyway.',\n",
       " 'This winter, the testing system has been picking up only half of all infections - so at the peak, an estimated 200,000 people a day in England who should have been were not being formally asked to isolate.',\n",
       " 'Furthermore, about one in five of those who test positive does not fully adhere to the isolation requirements, according to the ONS.',\n",
       " 'It is easy to overestimate the impact of government rules and the significance of removing them.',\n",
       " 'After all, at Christmas there were no limits on mixing in England - but contact levels were still at incredibly low rates, similar to those seen in the first lockdown.',\n",
       " 'Just because the public is no longer under a legal requirement to isolate, it does not mean they will suddenly stop staying home when ill. After all, when the rules do end, there will be guidance about the importance of staying at home if you are ill.',\n",
       " 'Those willing and able to follow the rules - some say there has been insufficient financial support to help people on low incomes isolate when they risk losing earnings - may largely continue with their current behaviours, University College London epidemiologist Prof Tim Colbourn says.',\n",
       " '\"Ending legal isolation requirements doesn\\'t meant everyone will freely spread Covid everywhere,\" he says.',\n",
       " '\"People still care about family, friends and colleagues. ',\n",
       " '\"Given the availability of rapid tests and current isolation law being largely unenforceable, it might not actually make much difference.\" ',\n",
       " 'Follow Nick on Twitter.',\n",
       " 'Read more from Nick.',\n",
       " 'Do you have any questions about the end of Covid restrictions? How will it affect you? Share your questions, views and experiences by emailing haveyoursay@bbc.co.uk.',\n",
       " 'Please include a contact number if you are willing to speak to a BBC journalist. You can also get in touch in the following ways:',\n",
       " \"If you are reading this page and can't see the form you will need to visit the mobile version of the BBC website to submit your question or comment or you can email us at HaveYourSay@bbc.co.uk. Please include your name, age and location with any submission. \",\n",
       " 'How many cases are there in your area?',\n",
       " 'Which country has been hit hardest?']"
      ]
     },
     "execution_count": 25,
     "metadata": {},
     "output_type": "execute_result"
    }
   ],
   "source": [
    "parsed.paragraphs"
   ]
  },
  {
   "cell_type": "code",
   "execution_count": 29,
   "id": "9a903e04",
   "metadata": {},
   "outputs": [],
   "source": [
    "fn = 'authorDetails.csv'\n",
    "with open(fn, 'w', newline='') as f:\n",
    "    w = csv.DictWriter(f, ['Author_Name', 'Author_Image', 'Author_SocialMedia', 'Author_link'])\n",
    "    w.writeheader()\n",
    "    w.writerow(parsed.author)"
   ]
  },
  {
   "cell_type": "code",
   "execution_count": 30,
   "id": "8194d740",
   "metadata": {},
   "outputs": [],
   "source": [
    "fn = 'Images.csv'\n",
    "with open(fn, 'w', newline='') as f:\n",
    "    w = csv.DictWriter(f, ['Name', 'Link'])\n",
    "    w.writeheader()\n",
    "    for im in parsed.images: \n",
    "        w.writerow(im)"
   ]
  },
  {
   "cell_type": "code",
   "execution_count": 31,
   "id": "4560ccba",
   "metadata": {},
   "outputs": [],
   "source": [
    "fn = 'articleText.txt'\n",
    "with open(fn, 'w', newline='') as f:\n",
    "    for p in parsed.paragraphs: \n",
    "        f.write(p)\n",
    "        f.write('\\n')"
   ]
  },
  {
   "cell_type": "code",
   "execution_count": null,
   "id": "2f8210fa",
   "metadata": {},
   "outputs": [],
   "source": []
  }
 ],
 "metadata": {
  "kernelspec": {
   "display_name": "Python 3",
   "language": "python",
   "name": "python3"
  },
  "language_info": {
   "codemirror_mode": {
    "name": "ipython",
    "version": 3
   },
   "file_extension": ".py",
   "mimetype": "text/x-python",
   "name": "python",
   "nbconvert_exporter": "python",
   "pygments_lexer": "ipython3",
   "version": "3.8.8"
  }
 },
 "nbformat": 4,
 "nbformat_minor": 5
}
